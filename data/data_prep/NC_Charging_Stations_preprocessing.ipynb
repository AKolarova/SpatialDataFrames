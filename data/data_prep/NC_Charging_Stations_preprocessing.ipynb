{
 "cells": [
  {
   "cell_type": "markdown",
   "id": "22fc62e7",
   "metadata": {},
   "source": [
    "## NC Charging Stations preprocessing\n",
    "This notebook outlines the steps taken to obtain and preprocess the `NC_Charging_Stations.csv` file use in these exercises."
   ]
  },
  {
   "cell_type": "markdown",
   "id": "bf538b58",
   "metadata": {},
   "source": [
    "### Obtaining the data\n",
    "* Navigate to <https://afdc.energy.gov/data_download>\n",
    "* Enter input parameters\n",
    " * Dataset : `Alternative fuel stations`\n",
    " * File format: `CSV (opens in Excel)`\n",
    " * Fuel type: `All`\n",
    " * Access: `All`\n",
    " * Status: `All`\n",
    "* Enter user information...\n",
    "* Download\n",
    "* Zip downloaded file to save space"
   ]
  },
  {
   "cell_type": "markdown",
   "id": "344c5335",
   "metadata": {},
   "source": [
    "Data downloaded on 22 October, 2022 as `alt_fuel_stations (Oct 25 2022).csv`"
   ]
  },
  {
   "cell_type": "markdown",
   "id": "8a08ead8",
   "metadata": {},
   "source": [
    "### Filtering, subsetting, and exporting the data"
   ]
  },
  {
   "cell_type": "code",
   "execution_count": null,
   "id": "8c9fd69c",
   "metadata": {},
   "outputs": [],
   "source": [
    "#Import packages\n",
    "import pandas as pd\n",
    "\n",
    "#Fields to import\n",
    "field_list = ('Fuel Type Code', 'Station Name', 'City', 'State', 'ZIP', \n",
    "              'Status Code', 'Latitude', 'Longitude', 'ID','Facility Type')\n",
    "\n",
    "#Import the downloaded CSV\n",
    "df_all = pd.read_csv(\n",
    "    \"alt_fuel_stations (Oct 25 2022).zip\",\n",
    "    usecols=field_list,\n",
    "    dtype={'ZIP':'str','Status Code':'str','id':'str'},\n",
    "    index_col = 'ID'\n",
    ")\n",
    "\n",
    "#Filter for just electric sites in NC\n",
    "df_nc = df_all.loc[(df_all['State']==\"NC\") & (df_all['Fuel Type Code'] == 'ELEC')]\n",
    "\n",
    "#Write to file\n",
    "df_nc.to_csv('NC_Charging_Stations.csv')"
   ]
  }
 ],
 "metadata": {
  "kernelspec": {
   "display_name": "Python 3 (ipykernel)",
   "language": "python",
   "name": "python3"
  },
  "language_info": {
   "codemirror_mode": {
    "name": "ipython",
    "version": 3
   },
   "file_extension": ".py",
   "mimetype": "text/x-python",
   "name": "python",
   "nbconvert_exporter": "python",
   "pygments_lexer": "ipython3",
   "version": "3.10.6"
  }
 },
 "nbformat": 4,
 "nbformat_minor": 5
}
