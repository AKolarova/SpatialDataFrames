{
 "cells": [
  {
   "cell_type": "code",
   "execution_count": 1,
   "metadata": {},
   "outputs": [],
   "source": [
    "#Import packages\n",
    "import geopandas as gpd"
   ]
  },
  {
   "cell_type": "code",
   "execution_count": 5,
   "metadata": {},
   "outputs": [],
   "source": [
    "#Fetch the data from NC OneMap REST API as GeoJSON object\n",
    "url='https://services.nconemap.gov/secure/rest/services/'+\\\n",
    "    'NC1Map_Environment/FeatureServer/3/'+\\\n",
    "    'query?where=OBJECTID>0&outFields=*&f=geojson'\n",
    "gdf_gages = gpd.read_file(url)"
   ]
  },
  {
   "cell_type": "code",
   "execution_count": 7,
   "metadata": {},
   "outputs": [],
   "source": [
    "#Extract lat and lng columns from geometry\n",
    "gdf_gages['Lng'] = gdf_gages.geometry.x\n",
    "gdf_gages['Lat'] = gdf_gages.geometry.y"
   ]
  },
  {
   "cell_type": "code",
   "execution_count": 8,
   "metadata": {},
   "outputs": [],
   "source": [
    "#Export all but geometry column and index to csv file\n",
    "gdf_gages.drop('geometry', axis=1).to_csv('../data/gages.csv', index=False)"
   ]
  },
  {
   "cell_type": "code",
   "execution_count": null,
   "metadata": {},
   "outputs": [],
   "source": []
  }
 ],
 "metadata": {
  "kernelspec": {
   "display_name": "Python 3",
   "language": "python",
   "name": "python3"
  },
  "language_info": {
   "codemirror_mode": {
    "name": "ipython",
    "version": 3
   },
   "file_extension": ".py",
   "mimetype": "text/x-python",
   "name": "python",
   "nbconvert_exporter": "python",
   "pygments_lexer": "ipython3",
   "version": "3.6.12"
  }
 },
 "nbformat": 4,
 "nbformat_minor": 4
}
