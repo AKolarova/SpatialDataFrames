{
 "cells": [
  {
   "cell_type": "markdown",
   "id": "cfc908bf",
   "metadata": {},
   "source": [
    "## Creating Spatial Dataframes (2)\n",
    "ENV 859 - Fall 2022  \n",
    "© John Fay, Duke University\n",
    "\n",
    "\n",
    "### Lesson 2: Creating spatial dataframes from existing feature classes\n",
    "Here we look at the process of getting existing feature classes, e.g. Shapefiles, into spatial dataframes. We'll again look at methods using GeoPandas and then compare that with similar methods using the ArcGIS API for Python. \n",
    "\n",
    ">Note: The ArcGIS Python API uses different spatial engines depending on whether ArcPy exists in the Conda environment or not. It tends to be quite a bit buggier when not, as is revealed in this notebook.\n",
    "\n",
    "As before, we explore methods using GeoPandas and then using the ArcGIS API for Python. The dataset we'll use represents 12-digit hydrologic units (\"HUC12s\") for North Carolina. The data were obtained [here](https://data-ncdenr.opendata.arcgis.com/maps/12-digit-huc-subwatersheds) and downloaded as `WBD_HUC_10_12.shp` located in the `data` folder."
   ]
  },
  {
   "cell_type": "markdown",
   "id": "04650096",
   "metadata": {},
   "source": [
    "### Using Geopandas\n",
    "Importing feature classes using GeoPandas is easy with the `read_file()` command. What's worth noting is that GeoPandas actually uses the Python Fiona package. Fiona leverages a collection of drivers that provide access to a number of geospatial data formats. Geopandas simplifies the usage of Fiona commands, making import and export of geodataframes easier to use.\n",
    "\n",
    "The path to the dataset should be `../data/WBD_HUC_10_12.shp`."
   ]
  },
  {
   "cell_type": "code",
   "execution_count": null,
   "id": "5c6a8bcb",
   "metadata": {},
   "outputs": [],
   "source": [
    "#Import geopandas\n",
    "import geopandas as gpd"
   ]
  },
  {
   "cell_type": "code",
   "execution_count": null,
   "id": "05661131",
   "metadata": {},
   "outputs": [],
   "source": [
    "#Explore the read_file() command\n",
    "gpd.read_file?"
   ]
  },
  {
   "cell_type": "code",
   "execution_count": null,
   "id": "5793b29e",
   "metadata": {},
   "outputs": [],
   "source": [
    "#Read the shapefile into a GeoPandas geodataframe\n",
    "gdf = gpd.read_file('../data/WBD_HUC_10_12.shp')"
   ]
  },
  {
   "cell_type": "markdown",
   "id": "613f4b42",
   "metadata": {},
   "source": [
    "##### More practice on exploring geodataframes"
   ]
  },
  {
   "cell_type": "code",
   "execution_count": null,
   "id": "860b6a4c",
   "metadata": {},
   "outputs": [],
   "source": [
    "#View the first 5 rows\n",
    "gdf.head()"
   ]
  },
  {
   "cell_type": "code",
   "execution_count": null,
   "id": "322759ed",
   "metadata": {},
   "outputs": [],
   "source": [
    "#View info for the dataframe\n",
    "gdf.info()"
   ]
  },
  {
   "cell_type": "code",
   "execution_count": null,
   "id": "f11e7b0d",
   "metadata": {},
   "outputs": [],
   "source": [
    "#Display values for the 101st record (using \"iloc\")\n",
    "gdf.iloc[100]"
   ]
  },
  {
   "cell_type": "code",
   "execution_count": null,
   "id": "8e7944e1",
   "metadata": {},
   "outputs": [],
   "source": [
    "#Show the features using the plot command\n",
    "gdf.plot(figsize=(15,5));"
   ]
  },
  {
   "cell_type": "markdown",
   "id": "6170f54c",
   "metadata": {},
   "source": [
    "##### And some new explorations"
   ]
  },
  {
   "cell_type": "code",
   "execution_count": null,
   "id": "ed0e4680",
   "metadata": {},
   "outputs": [],
   "source": [
    "#What is the coordinate reference system\n",
    "gdf.crs"
   ]
  },
  {
   "cell_type": "code",
   "execution_count": null,
   "id": "3b303000",
   "metadata": {},
   "outputs": [],
   "source": [
    "#Or just the its epsg code \n",
    "gdf.crs.to_epsg()"
   ]
  },
  {
   "cell_type": "code",
   "execution_count": null,
   "id": "a3b82556",
   "metadata": {},
   "outputs": [],
   "source": [
    "#Display the geometry for the 101st feature (again using \"iloc\", recalling geometry is the last column)\n",
    "gdf.iloc[100,-1]"
   ]
  },
  {
   "cell_type": "code",
   "execution_count": null,
   "id": "43f729cd",
   "metadata": {},
   "outputs": [],
   "source": [
    "#Reveal the different geometry types used in the geodataframe\n",
    "gdf['geometry'].type.unique()"
   ]
  },
  {
   "cell_type": "markdown",
   "id": "d79d19bc",
   "metadata": {},
   "source": [
    "### Using the ArcGIS API for Python\n",
    "Shapefiles were created by ESRI, so it makes sense that the ArcGIS API for Python (created by ESRI) can read shapefiles easily. The function used is the GeoAccessor's `from_featureclass()` function."
   ]
  },
  {
   "cell_type": "code",
   "execution_count": null,
   "id": "c4e99d41",
   "metadata": {},
   "outputs": [],
   "source": [
    "#Import the GeoAccessor object from the arcgis package\n",
    "from arcgis import GeoAccessor"
   ]
  },
  {
   "cell_type": "code",
   "execution_count": null,
   "id": "3e59f604",
   "metadata": {},
   "outputs": [],
   "source": [
    "#Examine the from_featureclass() function\n",
    "GeoAccessor.from_featureclass?"
   ]
  },
  {
   "cell_type": "code",
   "execution_count": null,
   "id": "846f6418",
   "metadata": {},
   "outputs": [],
   "source": [
    "#Read in the feature class\n",
    "sdf = GeoAccessor.from_featureclass('../data/WBD_HUC_10_12.shp')\n",
    "sdf.shape"
   ]
  },
  {
   "cell_type": "code",
   "execution_count": null,
   "id": "8a3a2dbf",
   "metadata": {},
   "outputs": [],
   "source": [
    "#Reveal its spatial reference\n",
    "sdf.spatial.sr"
   ]
  },
  {
   "cell_type": "markdown",
   "id": "63303f9c",
   "metadata": {},
   "source": [
    "--> ***The spatial reference is wrong!*** The ArcGIS API is still a bit buggy when you use a version in a Conda environment without ArcPy. You won't get this error if you use ArcGIS Pro's native Conda environment..."
   ]
  },
  {
   "cell_type": "code",
   "execution_count": null,
   "id": "4caee17d",
   "metadata": {},
   "outputs": [],
   "source": [
    "#Fix the spatial reference\n",
    "sdf.spatial.sr = {'epsg':3857}"
   ]
  },
  {
   "cell_type": "markdown",
   "id": "871ae425",
   "metadata": {},
   "source": [
    "The `from_featureclass()` has some issues. Instead, we can create our ArcGIS API spatial dataframe from our geopandas geodataframe using the GeoAccessor's `from_geodataframe()` function.\""
   ]
  },
  {
   "cell_type": "code",
   "execution_count": null,
   "id": "9c17dd3c",
   "metadata": {},
   "outputs": [],
   "source": [
    "#Import from our geodataframe\n",
    "sdf2 = GeoAccessor.from_geodataframe(gdf)"
   ]
  },
  {
   "cell_type": "code",
   "execution_count": null,
   "id": "bb988a5f",
   "metadata": {},
   "outputs": [],
   "source": [
    "#Check the spatial reference -- it's working!\n",
    "sdf2.spatial.sr"
   ]
  },
  {
   "cell_type": "code",
   "execution_count": null,
   "id": "6fa9d7d2",
   "metadata": {},
   "outputs": [],
   "source": [
    "#Plot -- nope..\n",
    "sdf.spatial.plot()"
   ]
  },
  {
   "cell_type": "markdown",
   "id": "b0645ebd",
   "metadata": {},
   "source": [
    "### Conclusion\n",
    "We see that we have some issues with some of the ArcGIS Python API spatial dataframes when using an environment without ArcPy... Something important to keep in mind!"
   ]
  }
 ],
 "metadata": {
  "kernelspec": {
   "display_name": "Python 3",
   "language": "python",
   "name": "python3"
  },
  "language_info": {
   "codemirror_mode": {
    "name": "ipython",
    "version": 3
   },
   "file_extension": ".py",
   "mimetype": "text/x-python",
   "name": "python",
   "nbconvert_exporter": "python",
   "pygments_lexer": "ipython3",
   "version": "3.7.11"
  }
 },
 "nbformat": 4,
 "nbformat_minor": 5
}
