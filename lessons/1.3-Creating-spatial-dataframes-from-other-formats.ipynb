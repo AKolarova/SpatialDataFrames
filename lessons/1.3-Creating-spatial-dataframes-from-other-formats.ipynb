{
 "cells": [
  {
   "cell_type": "markdown",
   "id": "cf4ba8d7",
   "metadata": {},
   "source": [
    "# Creating Spatial Dataframes (3)\n",
    "ENV 859 - Fall 2022  \n",
    "© John Fay, Duke University\n",
    "\n",
    "## Lesson 3. Creating spatial dataframes from other file formats\n",
    "\n",
    "Now we look at some formats that may be less familiar to you but are becoming more and more common. Again, we'll compare GeoPandas with the ArcGIS API for Python. \n",
    "\n",
    "### 3.1 Reading GeoJSON files\n",
    "We have a GeoJSON format of the major river basins in NC saved in our data folder: `../data/12-Major_River_Basins.geojson` ([source](https://data-ncdenr.opendata.arcgis.com/datasets/ncdenr::major-river-basins/)). Let's see how we go about importing that file. \n",
    "\n",
    ">##### What is GeoJSON?\n",
    ">GeoJSON is a text based format that stores spatial features in a long, but universally readable format (i.e. text!). \"JSON\" stands for JavaScript Object Notation, and if you look at raw JSON files from a Python perspective, it looks like a set of nested dictionary and list objects. We need not get too deep into that, but understand that being text based, JSON and its spatial counterpart GeoJSON, are used widely in web-based services and can be quite useful in certain circumstances."
   ]
  },
  {
   "cell_type": "markdown",
   "id": "c16eae7a",
   "metadata": {},
   "source": [
    "#### Using GeoPandas\n",
    "With GeoPandas, we read the GeoJSON file much like we did a shapefile, i.e. with the `read_file()` function. The key exception is that we specify the driver used to interpret the file. The default driver it would use is for Shapefiles, but here we spedcify the driver as `GeoJSON`."
   ]
  },
  {
   "cell_type": "code",
   "execution_count": 1,
   "id": "cd509e43",
   "metadata": {},
   "outputs": [],
   "source": [
    "#import geopandas\n",
    "import geopandas as gpd"
   ]
  },
  {
   "cell_type": "code",
   "execution_count": 6,
   "id": "33f781b7",
   "metadata": {},
   "outputs": [],
   "source": [
    "#read in the file \n",
    "gdf = gpd.read_file(\n",
    "    filename='../data/Major_River_Basins.geojson',\n",
    "    driver='GeoJSON')"
   ]
  },
  {
   "cell_type": "code",
   "execution_count": 7,
   "id": "74b80e2b",
   "metadata": {},
   "outputs": [
    {
     "data": {
      "text/html": [
       "<div>\n",
       "<style scoped>\n",
       "    .dataframe tbody tr th:only-of-type {\n",
       "        vertical-align: middle;\n",
       "    }\n",
       "\n",
       "    .dataframe tbody tr th {\n",
       "        vertical-align: top;\n",
       "    }\n",
       "\n",
       "    .dataframe thead th {\n",
       "        text-align: right;\n",
       "    }\n",
       "</style>\n",
       "<table border=\"1\" class=\"dataframe\">\n",
       "  <thead>\n",
       "    <tr style=\"text-align: right;\">\n",
       "      <th></th>\n",
       "      <th>FID</th>\n",
       "      <th>Basin</th>\n",
       "      <th>Sq_Miles</th>\n",
       "      <th>Acres</th>\n",
       "      <th>Name</th>\n",
       "      <th>PlanLink</th>\n",
       "      <th>SHAPE_Length</th>\n",
       "      <th>SHAPE_Area</th>\n",
       "      <th>geometry</th>\n",
       "    </tr>\n",
       "  </thead>\n",
       "  <tbody>\n",
       "    <tr>\n",
       "      <th>0</th>\n",
       "      <td>1</td>\n",
       "      <td>BRD</td>\n",
       "      <td>1513.894812</td>\n",
       "      <td>9.688927e+05</td>\n",
       "      <td>Broad</td>\n",
       "      <td>https://deq.nc.gov/about/divisions/water-resou...</td>\n",
       "      <td>4.660031</td>\n",
       "      <td>0.388971</td>\n",
       "      <td>MULTIPOLYGON (((-82.76957 35.06725, -82.76956 ...</td>\n",
       "    </tr>\n",
       "    <tr>\n",
       "      <th>1</th>\n",
       "      <td>2</td>\n",
       "      <td>CAT</td>\n",
       "      <td>3285.405145</td>\n",
       "      <td>2.102659e+06</td>\n",
       "      <td>Catawba</td>\n",
       "      <td>https://deq.nc.gov/about/divisions/water-resou...</td>\n",
       "      <td>6.978237</td>\n",
       "      <td>0.846399</td>\n",
       "      <td>MULTIPOLYGON (((-81.69406 36.14650, -81.69432 ...</td>\n",
       "    </tr>\n",
       "    <tr>\n",
       "      <th>2</th>\n",
       "      <td>3</td>\n",
       "      <td>CHO</td>\n",
       "      <td>1298.283191</td>\n",
       "      <td>8.309012e+05</td>\n",
       "      <td>Chowan</td>\n",
       "      <td>https://deq.nc.gov/about/divisions/water-resou...</td>\n",
       "      <td>3.898689</td>\n",
       "      <td>0.337555</td>\n",
       "      <td>MULTIPOLYGON (((-76.63823 36.54724, -76.63815 ...</td>\n",
       "    </tr>\n",
       "    <tr>\n",
       "      <th>3</th>\n",
       "      <td>4</td>\n",
       "      <td>CPF</td>\n",
       "      <td>9163.594976</td>\n",
       "      <td>5.864701e+06</td>\n",
       "      <td>Cape Fear</td>\n",
       "      <td>https://deq.nc.gov/about/divisions/water-resou...</td>\n",
       "      <td>11.348849</td>\n",
       "      <td>2.349888</td>\n",
       "      <td>MULTIPOLYGON (((-79.71241 36.35253, -79.71207 ...</td>\n",
       "    </tr>\n",
       "    <tr>\n",
       "      <th>4</th>\n",
       "      <td>5</td>\n",
       "      <td>FBR</td>\n",
       "      <td>2828.806116</td>\n",
       "      <td>1.810436e+06</td>\n",
       "      <td>French Broad</td>\n",
       "      <td>https://deq.nc.gov/about/divisions/water-resou...</td>\n",
       "      <td>5.896702</td>\n",
       "      <td>0.729338</td>\n",
       "      <td>MULTIPOLYGON (((-82.20824 36.15731, -82.20808 ...</td>\n",
       "    </tr>\n",
       "  </tbody>\n",
       "</table>\n",
       "</div>"
      ],
      "text/plain": [
       "   FID Basin     Sq_Miles         Acres          Name  \\\n",
       "0    1   BRD  1513.894812  9.688927e+05         Broad   \n",
       "1    2   CAT  3285.405145  2.102659e+06       Catawba   \n",
       "2    3   CHO  1298.283191  8.309012e+05        Chowan   \n",
       "3    4   CPF  9163.594976  5.864701e+06     Cape Fear   \n",
       "4    5   FBR  2828.806116  1.810436e+06  French Broad   \n",
       "\n",
       "                                            PlanLink  SHAPE_Length  \\\n",
       "0  https://deq.nc.gov/about/divisions/water-resou...      4.660031   \n",
       "1  https://deq.nc.gov/about/divisions/water-resou...      6.978237   \n",
       "2  https://deq.nc.gov/about/divisions/water-resou...      3.898689   \n",
       "3  https://deq.nc.gov/about/divisions/water-resou...     11.348849   \n",
       "4  https://deq.nc.gov/about/divisions/water-resou...      5.896702   \n",
       "\n",
       "   SHAPE_Area                                           geometry  \n",
       "0    0.388971  MULTIPOLYGON (((-82.76957 35.06725, -82.76956 ...  \n",
       "1    0.846399  MULTIPOLYGON (((-81.69406 36.14650, -81.69432 ...  \n",
       "2    0.337555  MULTIPOLYGON (((-76.63823 36.54724, -76.63815 ...  \n",
       "3    2.349888  MULTIPOLYGON (((-79.71241 36.35253, -79.71207 ...  \n",
       "4    0.729338  MULTIPOLYGON (((-82.20824 36.15731, -82.20808 ...  "
      ]
     },
     "execution_count": 7,
     "metadata": {},
     "output_type": "execute_result"
    }
   ],
   "source": [
    "#Explore...\n",
    "gdf.head()"
   ]
  },
  {
   "cell_type": "code",
   "execution_count": 11,
   "id": "640f663b",
   "metadata": {},
   "outputs": [
    {
     "data": {
      "text/plain": [
       "4326"
      ]
     },
     "execution_count": 11,
     "metadata": {},
     "output_type": "execute_result"
    }
   ],
   "source": [
    "#Get the wkid \n",
    "gdf.crs.to_epsg()"
   ]
  },
  {
   "cell_type": "code",
   "execution_count": 9,
   "id": "1e75644a",
   "metadata": {},
   "outputs": [
    {
     "data": {
      "text/plain": [
       "<AxesSubplot:>"
      ]
     },
     "execution_count": 9,
     "metadata": {},
     "output_type": "execute_result"
    },
    {
     "data": {
      "image/png": "[encoded data removed]",
      "text/plain": [
       "<Figure size 432x288 with 1 Axes>"
      ]
     },
     "metadata": {
      "needs_background": "light"
     },
     "output_type": "display_data"
    }
   ],
   "source": [
    "#Plot\n",
    "gdf.plot()"
   ]
  },
  {
   "cell_type": "markdown",
   "id": "261b3db3",
   "metadata": {},
   "source": [
    "#### Using the ArcGIS Python API\n",
    "The ArcGIS Python API doesn't currently read GeoJSON. (I know, right?) But we could revert to importing as a geodataframe and then importing that..."
   ]
  },
  {
   "cell_type": "code",
   "execution_count": 13,
   "id": "04e79070",
   "metadata": {},
   "outputs": [],
   "source": [
    "from arcgis.features import GeoAccessor"
   ]
  },
  {
   "cell_type": "code",
   "execution_count": 14,
   "id": "84c284fc",
   "metadata": {},
   "outputs": [],
   "source": [
    "sdf = GeoAccessor.from_geodataframe(gdf)"
   ]
  },
  {
   "cell_type": "code",
   "execution_count": 16,
   "id": "066d6708",
   "metadata": {},
   "outputs": [
    {
     "data": {
      "application/vnd.jupyter.widget-view+json": {
       "model_id": "6f559ad6f23b478a95e34add06a62044",
       "version_major": 2,
       "version_minor": 0
      },
      "text/plain": [
       "MapView(layout=Layout(height='400px', width='100%'))"
      ]
     },
     "metadata": {},
     "output_type": "display_data"
    },
    {
     "data": {
      "text/html": [
       "<div class=\"map-static-img-preview-fc1e72ae-a201-45d5-a3c4-5447d0903a8a\"><img src=\"\"></img></div>"
      ],
      "text/plain": [
       "<IPython.core.display.HTML object>"
      ]
     },
     "metadata": {},
     "output_type": "display_data"
    },
    {
     "data": {
      "text/html": [
       "<div class=\"map-html-embed-preview-fc1e72ae-a201-45d5-a3c4-5447d0903a8a\"></div>"
      ],
      "text/plain": [
       "<IPython.core.display.HTML object>"
      ]
     },
     "metadata": {},
     "output_type": "display_data"
    }
   ],
   "source": [
    "sdf.spatial.plot()"
   ]
  },
  {
   "cell_type": "markdown",
   "id": "9ccd1b43",
   "metadata": {},
   "source": [
    "### 3.2 Reading KML files\n",
    "#### GeoPandas"
   ]
  },
  {
   "cell_type": "code",
   "execution_count": null,
   "id": "da92315c",
   "metadata": {},
   "outputs": [],
   "source": []
  }
 ],
 "metadata": {
  "kernelspec": {
   "display_name": "Python 3",
   "language": "python",
   "name": "python3"
  },
  "language_info": {
   "codemirror_mode": {
    "name": "ipython",
    "version": 3
   },
   "file_extension": ".py",
   "mimetype": "text/x-python",
   "name": "python",
   "nbconvert_exporter": "python",
   "pygments_lexer": "ipython3",
   "version": "3.7.11"
  }
 },
 "nbformat": 4,
 "nbformat_minor": 5
}
