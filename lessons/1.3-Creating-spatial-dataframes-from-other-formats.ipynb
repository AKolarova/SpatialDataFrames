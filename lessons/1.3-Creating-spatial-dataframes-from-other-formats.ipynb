{
 "cells": [
  {
   "cell_type": "markdown",
   "id": "1df59ccc",
   "metadata": {},
   "source": [
    "# Creating Spatial Dataframes (3)\n",
    "ENV 859 - Fall 2022  \n",
    "© John Fay, Duke University\n",
    "\n",
    "## Lesson 3. Creating spatial dataframes from other file formats\n",
    "\n",
    "Now we look at some formats that may be less familiar to you but are becoming more and more common. Again, we'll compare GeoPandas with the ArcGIS API for Python. \n",
    "\n",
    "### 3.1 Reading GeoJSON files\n",
    "We have a GeoJSON format of the major river basins in NC saved in our data folder: `../data/12-Major_River_Basins.geojson` ([source](https://data-ncdenr.opendata.arcgis.com/datasets/ncdenr::major-river-basins/)). Let's see how we go about importing that file. \n",
    "\n",
    ">##### What is GeoJSON?\n",
    ">GeoJSON is a text based format that stores spatial features in a long, but universally readable format (i.e. text!). \"JSON\" stands for JavaScript Object Notation, and if you look at raw JSON files from a Python perspective, it looks like a set of nested dictionary and list objects. We need not get too deep into that, but understand that being text based, JSON and its spatial counterpart GeoJSON, are used widely in web-based services and can be quite useful in certain circumstances."
   ]
  },
  {
   "cell_type": "markdown",
   "id": "ae3040e6",
   "metadata": {},
   "source": [
    "#### Using GeoPandas\n",
    "With GeoPandas, we read the GeoJSON file much like we did a shapefile, i.e. with the `read_file()` function. The key exception is that we specify the driver used to interpret the file. The default driver it would use is for Shapefiles, but here we spedcify the driver as `GeoJSON`."
   ]
  },
  {
   "cell_type": "code",
   "execution_count": null,
   "id": "67e77228",
   "metadata": {},
   "outputs": [],
   "source": [
    "#import geopandas\n",
    "import geopandas as gpd"
   ]
  },
  {
   "cell_type": "code",
   "execution_count": null,
   "id": "66fe7fd4",
   "metadata": {},
   "outputs": [],
   "source": [
    "#read in the file \n",
    "gdf = gpd.read_file(\n",
    "    filename='../data/Major_River_Basins.geojson',\n",
    "    driver='GeoJSON')"
   ]
  },
  {
   "cell_type": "code",
   "execution_count": null,
   "id": "8e4a13c8",
   "metadata": {},
   "outputs": [],
   "source": [
    "#Explore...\n",
    "gdf.head()"
   ]
  },
  {
   "cell_type": "code",
   "execution_count": null,
   "id": "a8ac93e6",
   "metadata": {},
   "outputs": [],
   "source": [
    "#Get the wkid \n",
    "gdf.crs.to_epsg()"
   ]
  },
  {
   "cell_type": "code",
   "execution_count": null,
   "id": "4996bc5c",
   "metadata": {},
   "outputs": [],
   "source": [
    "#Plot\n",
    "gdf.plot()"
   ]
  },
  {
   "cell_type": "markdown",
   "id": "75e28392",
   "metadata": {},
   "source": [
    "#### Using the ArcGIS Python API\n",
    "The ArcGIS Python API doesn't currently read GeoJSON. (I know, right?) But we could revert to importing as a geodataframe and then importing that..."
   ]
  },
  {
   "cell_type": "code",
   "execution_count": null,
   "id": "161b2fbb",
   "metadata": {},
   "outputs": [],
   "source": [
    "from arcgis.features import GeoAccessor"
   ]
  },
  {
   "cell_type": "code",
   "execution_count": null,
   "id": "b399c7e4",
   "metadata": {},
   "outputs": [],
   "source": [
    "sdf = GeoAccessor.from_geodataframe(gdf)"
   ]
  },
  {
   "cell_type": "code",
   "execution_count": null,
   "id": "d0f6f92c",
   "metadata": {},
   "outputs": [],
   "source": [
    "sdf.spatial.plot()"
   ]
  },
  {
   "cell_type": "markdown",
   "id": "a14a202d",
   "metadata": {},
   "source": [
    "### 3.2 Reading KML files\n",
    "#### GeoPandas"
   ]
  },
  {
   "cell_type": "code",
   "execution_count": null,
   "id": "a28077f9",
   "metadata": {},
   "outputs": [],
   "source": [
    "import fiona\n",
    "fiona.supported_drivers"
   ]
  },
  {
   "cell_type": "code",
   "execution_count": null,
   "id": "953572c3",
   "metadata": {},
   "outputs": [],
   "source": [
    "gpd.io.file.fiona.drvsupport.supported_drivers['KML'] = 'rw'\n",
    "gdf = gpd.read_file('../data/Major_River_Basins.kml',driver='KML')\n",
    "gdf.plot()"
   ]
  },
  {
   "cell_type": "code",
   "execution_count": null,
   "id": "435a9728",
   "metadata": {},
   "outputs": [],
   "source": [
    "fiona.supported_drivers"
   ]
  }
 ],
 "metadata": {
  "kernelspec": {
   "display_name": "Python 3",
   "language": "python",
   "name": "python3"
  },
  "language_info": {
   "codemirror_mode": {
    "name": "ipython",
    "version": 3
   },
   "file_extension": ".py",
   "mimetype": "text/x-python",
   "name": "python",
   "nbconvert_exporter": "python",
   "pygments_lexer": "ipython3",
   "version": "3.7.11"
  }
 },
 "nbformat": 4,
 "nbformat_minor": 5
}
