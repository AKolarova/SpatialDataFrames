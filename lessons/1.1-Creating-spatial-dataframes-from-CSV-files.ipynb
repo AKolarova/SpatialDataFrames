{
 "cells": [
  {
   "cell_type": "markdown",
   "id": "63b06f1b",
   "metadata": {},
   "source": [
    "## Creating Spatial Dataframes (1)\n",
    "ENV 859 - Fall 2022  \n",
    "© John Fay, Duke University\n",
    "\n",
    "### What is a spatial dataframe\n",
    "A **spatial dataframe** (aka a **geodataframe**) is much like a typical Pandas dataframe except that it accomodates a new datatype: the **geometry** data type. The geometry, as you might guess can contain geometric features: points, lines, and polygons, each of which is defined by a single or series of coordinate pairs. These spatial dataframes are also assigned a **coordinate reference system (crs)**, which links these coordinates to specific places on the Earth and allows us to do geospatial analysis. In other words, these spatial dataframes are quite the same as our familiar GIS feature classes!\n",
    "\n",
    "### Libraries for working with spatial dataframes\n",
    "To work with spatial dataframes, we need one of two Python libraries, each of which has its own version of the spatial dataframe and its own set of functions and classes. First is **geopandas**, which has been around for a while, and then there's the newcomer, the **ArcGIS API for Python** (which really needs a better name). There's much overlap among the two, but also some very important distinctions and its useful to know the basics of both. \n",
    "\n",
    "### The lessons\n",
    "Here in this first lesson, we review several techniques for creating spatial dataframes from various source formats using both GeoPandas and the ArcGIS API for Python. The source formats include:\n",
    "1. A delimited text file (e.g. CSV) containing coordinate columns and a know coordinate reference system\n",
    "2. An existing feature class in the form of a shapefile or within a geodatabase\n",
    "3. Other formats: GeoJSON files, KML, and ArcGIS REST-based web services"
   ]
  },
  {
   "cell_type": "markdown",
   "id": "87086a4e",
   "metadata": {},
   "source": [
    "## Lesson 1. Creating spatial dataframes from CSV files\n",
    "In this example, we examine how to create a point spatial dataframe from a CSV file containing latitude and longitude coordinates. The data we'll use in this exercise is electric vehicle charging locations in North Carolina ([source](https://afdc.energy.gov/data_download))."
   ]
  },
  {
   "cell_type": "markdown",
   "id": "c62c1af5",
   "metadata": {},
   "source": [
    "### Using GeoPandas\n",
    "The process of importing a CSV file into a GeoPandas geodataframe consists of first importing the data into a Pandas dataframe and then creating a **GeoSeries** - or column of geometry objects - from the coordinate columns. Then we construct the geodataframe using the GeoPandas `GeoDataFrame()` function supplying the original dataframe, the geoseries object, and the coordinate reference system or `crs`. "
   ]
  },
  {
   "cell_type": "code",
   "execution_count": null,
   "id": "a5a3bed6",
   "metadata": {},
   "outputs": [],
   "source": [
    "#Import libraries: Pandas (as \"pd\") and geopandas (as \"gpd\")\n",
    "import pandas as pd\n",
    "import geopandas as gpd"
   ]
  },
  {
   "cell_type": "code",
   "execution_count": null,
   "id": "06decab4",
   "metadata": {},
   "outputs": [],
   "source": [
    "#Read the EV Charging station data into a Pandas dataframe\n",
    "df = pd.read_csv('../data/NC_Charging_Stations.csv')"
   ]
  },
  {
   "cell_type": "code",
   "execution_count": null,
   "id": "35460323",
   "metadata": {},
   "outputs": [],
   "source": [
    "#Examine the first few rows, noting the data include \"latitude\"  \"longitude\" columns\n",
    "df.head()"
   ]
  },
  {
   "cell_type": "markdown",
   "id": "31dd29fe",
   "metadata": {},
   "source": [
    "#### Creating a column of geometric objects (i.e., a GeoSeries) \n",
    "To create a geoseries, we use the geopandas `points_from_xy()` function."
   ]
  },
  {
   "cell_type": "code",
   "execution_count": null,
   "id": "34f70bc7",
   "metadata": {},
   "outputs": [],
   "source": [
    "#Show info on the command\n",
    "gpd.points_from_xy?"
   ]
  },
  {
   "cell_type": "markdown",
   "id": "6cdb9ef7",
   "metadata": {},
   "source": [
    "The essential inputs are a series of x coordinates (our `Longitude` column), a series of y coordinates (our `Latitude` column)."
   ]
  },
  {
   "cell_type": "code",
   "execution_count": null,
   "id": "ab8d7cb0",
   "metadata": {},
   "outputs": [],
   "source": [
    "#Create a geoseries object from the coordinate column\n",
    "geometries = gpd.points_from_xy(\n",
    "    x=df['Longitude'],\n",
    "    y=df['Latitude']\n",
    ")"
   ]
  },
  {
   "cell_type": "markdown",
   "id": "c8455967",
   "metadata": {},
   "source": [
    "Next, we use the `GeoDataFrame()` function to construct our geodataframe, attaching our geoseries as its \"shape\" field. We also, however, need to define the geodataframes's coordinate reference system, which is done by specifing the *well known ID* or **WKID** (really?) of the coordinate system to which our data is referenced.  \n",
    "\n",
    ">#### What is an WKID code?\n",
    ">All \"official\" coordinate systems have a unique ID, often defined by the \"European Petroleum Survey Group\". These ids, often refered to as  \"*WKIDs* or sometimes as \"*EPSG codes*\", can be found by looking up the name of the coordinate system on either https://spatialreference.org or https://epsg.io/. For example, the WKID for WGS 84 (which is what our data uses) is [4326](https://spatialreference.org/ref/epsg/wgs-84/)."
   ]
  },
  {
   "cell_type": "code",
   "execution_count": null,
   "id": "0c61d59d",
   "metadata": {},
   "outputs": [],
   "source": [
    "#View the GeoDataframe() command\n",
    "gpd.GeoDataFrame?"
   ]
  },
  {
   "cell_type": "code",
   "execution_count": null,
   "id": "d9c93fb5",
   "metadata": {},
   "outputs": [],
   "source": [
    "#Create a geodataframe from our data\n",
    "gdf  = gpd.GeoDataFrame(\n",
    "    data=df,\n",
    "    geometry=geometries,\n",
    "    crs = 4326\n",
    ")"
   ]
  },
  {
   "cell_type": "markdown",
   "id": "85f65197",
   "metadata": {},
   "source": [
    "Now, let's explore our geodataframe using many commands familiar with our exploration of Pandas dataframes"
   ]
  },
  {
   "cell_type": "code",
   "execution_count": null,
   "id": "811b0638",
   "metadata": {},
   "outputs": [],
   "source": [
    "#Show the structure of the geodataframe\n",
    "gdf.info()"
   ]
  },
  {
   "cell_type": "code",
   "execution_count": null,
   "id": "afb8ec24",
   "metadata": {},
   "outputs": [],
   "source": [
    "#Show the valus for the first record\n",
    "gdf.iloc[0]"
   ]
  },
  {
   "cell_type": "code",
   "execution_count": null,
   "id": "ec9f7ad6",
   "metadata": {},
   "outputs": [],
   "source": [
    "#Show the first few records\n",
    "gdf.head()"
   ]
  },
  {
   "cell_type": "code",
   "execution_count": null,
   "id": "0b7a55ff",
   "metadata": {},
   "outputs": [],
   "source": [
    "#Plot\n",
    "gdf.plot?\n",
    "gdf.plot(kind='geo',color='green');"
   ]
  },
  {
   "cell_type": "markdown",
   "id": "4eca8cdb",
   "metadata": {},
   "source": [
    "And that's it! Pretty straight forward. Soon we'll see what we can do with these dataframes, but first let's examine the same proceedure as done with the ArcGIS API for Python..."
   ]
  },
  {
   "cell_type": "markdown",
   "id": "cdbc172f",
   "metadata": {},
   "source": [
    "### Using the ArcGIS API for Python\n",
    "This process is quite similar. We again start with a Pandas dataframe, but here we don't have to create the geoseries. Instead, we just specify the dataframe and the columns in that dataframe that contain X and Y coordinates -- and the coordinate reference system too, of course."
   ]
  },
  {
   "cell_type": "code",
   "execution_count": null,
   "id": "0e273f6f",
   "metadata": {},
   "outputs": [],
   "source": [
    "#Import the library; because the arcgis package is HUGE, we import just the bit we need\n",
    "from arcgis import GeoAccessor"
   ]
  },
  {
   "cell_type": "markdown",
   "id": "cfe29133",
   "metadata": {},
   "source": [
    "The function we use here is the *GeoAccessor*'s `from_xy()` function..."
   ]
  },
  {
   "cell_type": "code",
   "execution_count": null,
   "id": "2c009f1b",
   "metadata": {},
   "outputs": [],
   "source": [
    "#Explore the function \n",
    "GeoAccessor.from_xy?"
   ]
  },
  {
   "cell_type": "code",
   "execution_count": null,
   "id": "7bd74ccc",
   "metadata": {},
   "outputs": [],
   "source": [
    "#Convert our dataframe to a spatial dataframe\n",
    "sdf = GeoAccessor.from_xy(\n",
    "    df=df,\n",
    "    x_column='Longitude',\n",
    "    y_column='Latitude',\n",
    "    sr = 4326\n",
    ")"
   ]
  },
  {
   "cell_type": "markdown",
   "id": "2671cc67",
   "metadata": {},
   "source": [
    "The spatial dataframe returned here is different than the GeoPandas geodataframe. It too can accept all the commands of Pandas dataframe. However, to access the spatially-enabled features, we append `.spatial` to the object."
   ]
  },
  {
   "cell_type": "code",
   "execution_count": null,
   "id": "87e44a7e",
   "metadata": {},
   "outputs": [],
   "source": [
    "#It appears to be just a Pandas dataframe\n",
    "type(sdf)"
   ]
  },
  {
   "cell_type": "code",
   "execution_count": null,
   "id": "7917eee0",
   "metadata": {},
   "outputs": [],
   "source": [
    "#To access its spatial component, we add \".spatial\" to the object\n",
    "type(sdf.spatial)"
   ]
  },
  {
   "cell_type": "markdown",
   "id": "a5adca75",
   "metadata": {},
   "source": [
    "View the spatial features using the `plot()` function of the GeoAccessor object."
   ]
  },
  {
   "cell_type": "code",
   "execution_count": null,
   "id": "7d69463d",
   "metadata": {},
   "outputs": [],
   "source": [
    "#View the points\n",
    "sdf.spatial.plot()"
   ]
  }
 ],
 "metadata": {
  "kernelspec": {
   "display_name": "Python 3",
   "language": "python",
   "name": "python3"
  },
  "language_info": {
   "codemirror_mode": {
    "name": "ipython",
    "version": 3
   },
   "file_extension": ".py",
   "mimetype": "text/x-python",
   "name": "python",
   "nbconvert_exporter": "python",
   "pygments_lexer": "ipython3",
   "version": "3.9.11"
  }
 },
 "nbformat": 4,
 "nbformat_minor": 5
}
